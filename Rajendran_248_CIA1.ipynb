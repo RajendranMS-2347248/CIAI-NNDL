{
  "nbformat": 4,
  "nbformat_minor": 0,
  "metadata": {
    "colab": {
      "provenance": [],
      "authorship_tag": "ABX9TyMFHYm5wNsyK0/MFrVc9lLS",
      "include_colab_link": true
    },
    "kernelspec": {
      "name": "python3",
      "display_name": "Python 3"
    },
    "language_info": {
      "name": "python"
    }
  },
  "cells": [
    {
      "cell_type": "markdown",
      "metadata": {
        "id": "view-in-github",
        "colab_type": "text"
      },
      "source": [
        "<a href=\"https://colab.research.google.com/github/RajendranMS-2347248/CIAI-NNDL/blob/main/Rajendran_248_CIA1.ipynb\" target=\"_parent\"><img src=\"https://colab.research.google.com/assets/colab-badge.svg\" alt=\"Open In Colab\"/></a>"
      ]
    },
    {
      "cell_type": "markdown",
      "source": [
        "# **Question 1: XOR Gate Classification**\n",
        "### Attempt to implement a Single Layer Perceptron to classify the output of an XOR gate.\n",
        "\n",
        "\n",
        "*   Create the XOR gate's truth table dataset.\n",
        "*   Implement the perceptron model and train it using the XOR dataset using MCP (McCulloch Pitts) Neuron.\n",
        "*   Observe and discuss the perceptron's performance in this scenario."
      ],
      "metadata": {
        "id": "aS51Kkne3AWd"
      }
    },
    {
      "cell_type": "code",
      "execution_count": null,
      "metadata": {
        "colab": {
          "base_uri": "https://localhost:8080/"
        },
        "id": "c-9Gduyd2BcB",
        "outputId": "95072738-29b4-4cf7-8e60-87b6967b99b3"
      },
      "outputs": [
        {
          "output_type": "stream",
          "name": "stdout",
          "text": [
            "Input: [0 0], Predicted: 1, Actual: 0\n",
            "Input: [0 1], Predicted: 1, Actual: 1\n",
            "Input: [1 0], Predicted: 0, Actual: 1\n",
            "Input: [1 1], Predicted: 0, Actual: 0\n"
          ]
        }
      ],
      "source": [
        "import numpy as np\n",
        "\n",
        "# Define the step activation function (threshold function)\n",
        "def step_function(x):\n",
        "    return np.where(x >= 0, 1, 0)\n",
        "\n",
        "# Perceptron class (MCP Neuron)\n",
        "class Perceptron:\n",
        "    def __init__(self, input_size, learning_rate=0.1):\n",
        "        self.weights = np.zeros(input_size + 1)  # Initialize weights (including bias)\n",
        "        self.learning_rate = learning_rate\n",
        "\n",
        "    # Predict function using step activation function\n",
        "    def predict(self, X):\n",
        "        # Add bias term (1) to input\n",
        "        X_with_bias = np.insert(X, 0, 1)  # Add bias input\n",
        "        weighted_sum = np.dot(self.weights, X_with_bias)  # Weighted sum\n",
        "        return step_function(weighted_sum)\n",
        "\n",
        "    # Train the perceptron using the Perceptron learning rule\n",
        "    def train(self, X, y, epochs=10):\n",
        "        for _ in range(epochs):\n",
        "            for i in range(len(X)):\n",
        "                prediction = self.predict(X[i])\n",
        "                error = y[i] - prediction\n",
        "                # Update the weights based on the error\n",
        "                self.weights[1:] += self.learning_rate * error * X[i]  # Update weights (not including bias)\n",
        "                self.weights[0] += self.learning_rate * error  # Update bias\n",
        "\n",
        "# XOR dataset\n",
        "X = np.array([[0, 0], [0, 1], [1, 0], [1, 1]])  # Inputs\n",
        "y = np.array([0, 1, 1, 0])  # XOR outputs\n",
        "\n",
        "# Initialize and train the Perceptron\n",
        "perceptron = Perceptron(input_size=2)\n",
        "perceptron.train(X, y, epochs=20)\n",
        "\n",
        "# Test the trained perceptron\n",
        "for i in range(len(X)):\n",
        "    prediction = perceptron.predict(X[i])\n",
        "    print(f\"Input: {X[i]}, Predicted: {prediction}, Actual: {y[i]}\")"
      ]
    },
    {
      "cell_type": "markdown",
      "source": [
        "The XOR- Gate using a MCP(McCulloch\n",
        "Pitts) Neuron is constructed with the dataset defined.\n",
        "\n",
        "#  **Inference:**\n",
        "\n",
        "*  From the outputs of the MCP single layer perceptron, we can see the difference in the Predicted outputs and the actual outputs of the XOR gate classification.\n",
        "* The major reason why the Single Layer Perceptron fails to classify the XOR gate is that the decision boundary of the XOR gate is non-linear ,i.e.,\n",
        "the function fails to obey the traditional equation of linearity :\n",
        "\n",
        "                                  y = m.x+c"
      ],
      "metadata": {
        "id": "0Lwo40hz-zqp"
      }
    },
    {
      "cell_type": "markdown",
      "source": [
        "##  **Implement XOR using Multi-Layer Perceptron.**"
      ],
      "metadata": {
        "id": "x6pN008T3Edl"
      }
    },
    {
      "cell_type": "code",
      "source": [
        "import numpy as np\n",
        "from sklearn.neural_network import MLPClassifier\n",
        "\n",
        "X = np.array([[0, 0], [0, 1], [1, 0], [1, 1]])  # Inputs\n",
        "Y = np.array([0, 1, 1, 0])  # Expected Outputs (XOR)\n",
        "\n",
        "mlp = MLPClassifier(hidden_layer_sizes=(2,), activation='tanh', solver='adam',\n",
        "                    learning_rate_init=0.01, max_iter=5000, random_state=42)\n",
        "\n",
        "mlp.fit(X, Y)\n",
        "\n",
        "predictions = mlp.predict(X)\n",
        "for i in range(len(X)):\n",
        "    print(f\"Input: {X[i]}, Predicted: {predictions[i]}, Actual: {Y[i]}\")\n",
        "\n",
        "if mlp.n_iter_ == mlp.max_iter:\n",
        "    print(f\"Warning: Maximum iterations reached without convergence. Consider increasing max_iter or adjusting learning rate.\")"
      ],
      "metadata": {
        "colab": {
          "base_uri": "https://localhost:8080/"
        },
        "id": "v_bLYcPM3G9U",
        "outputId": "f5ade905-a96f-48f7-f247-a88891854b43"
      },
      "execution_count": null,
      "outputs": [
        {
          "output_type": "stream",
          "name": "stdout",
          "text": [
            "Input: [0 0], Predicted: 0, Actual: 0\n",
            "Input: [0 1], Predicted: 1, Actual: 1\n",
            "Input: [1 0], Predicted: 1, Actual: 1\n",
            "Input: [1 1], Predicted: 0, Actual: 0\n"
          ]
        }
      ]
    },
    {
      "cell_type": "markdown",
      "source": [
        "# **Summary:**\n",
        "\n",
        "1.   Here, the Multi-Layer Perceptron is successful in classifying the XOR function as the Predicted and Actual outputs match.\n",
        "2.   Hence, we can define that :\n",
        "\n",
        "  *   Single-Layer Perceptrons are useful in handling basic gates and the functions that are linearly separable.\n",
        "  *    Whereas the functions which are non-linearly separable can be handled by the Multi-Layer Perceptron.\n",
        "\n",
        "\n",
        "\n",
        "\n",
        "\n"
      ],
      "metadata": {
        "id": "2KC4BZ1j_2vb"
      }
    },
    {
      "cell_type": "markdown",
      "source": [
        "Question 2:\n",
        "\n",
        "A. Sentiment Analysis Twitter Airline\n",
        "\n",
        "*   Design a sentiment analysis classification model using backpropagation and activation functions such as sigmoid, ReLU, or tanh. Implement a neural network that can classify sentiment (positive/negative) from a small dataset. Demonstrate how backpropagation updates the weights during the training process.\n",
        "*   Task:\n",
        "  *   Create a simple feed-forward neural network for binary sentiment classification (positive/negative).\n",
        "  *   Use backpropagation to optimize the model's weights based on error calculation.\n",
        "  *   Experiment with different activation functions (sigmoid, ReLU, tanh) in the hidden layer and compare the model's performance.\n",
        "  *   Evaluate the model on a test set using accuracy and plot the loss over epochs.\n",
        "\n",
        "\n",
        "\n",
        "\n",
        "\n",
        "\n",
        "\n",
        "\n"
      ],
      "metadata": {
        "id": "MKzfghUo3JB8"
      }
    },
    {
      "cell_type": "code",
      "source": [
        "import numpy as np\n",
        "import pandas as pd\n",
        "from sklearn.model_selection import train_test_split\n",
        "from sklearn.preprocessing import LabelEncoder\n",
        "from sklearn.feature_extraction.text import TfidfVectorizer\n",
        "from sklearn.metrics import accuracy_score\n",
        "from keras.models import Sequential\n",
        "from keras.layers import Dense, Activation\n",
        "from keras.optimizers import Adam\n",
        "import matplotlib.pyplot as plt\n",
        "\n",
        "# Load dataset\n",
        "file_path = '/content/Tweets - Tweets.csv'\n",
        "df = pd.read_csv(file_path)\n",
        "\n",
        "# Select the relevant columns\n",
        "df = df[['text', 'airline_sentiment']]\n",
        "\n",
        "# Preprocessing\n",
        "# Convert sentiment to 0 (negative), 1 (positive), 2 (neutral)\n",
        "encoder = LabelEncoder()\n",
        "df['airline_sentiment'] = encoder.fit_transform(df['airline_sentiment'])\n",
        "\n",
        "# Filter out neutral sentiments (2), keeping only positive (1) and negative (0)\n",
        "df = df[df['airline_sentiment'] != 2]\n",
        "\n",
        "# Vectorizing text data using TF-IDF\n",
        "vectorizer = TfidfVectorizer(max_features=1000)\n",
        "X = vectorizer.fit_transform(df['text'].fillna('')).toarray()\n",
        "y = df['airline_sentiment']\n",
        "\n",
        "# Train-test split\n",
        "X_train, X_test, y_train, y_test = train_test_split(X, y, test_size=0.2, random_state=42)\n",
        "\n",
        "# Build Feed-Forward Neural Network\n",
        "model = Sequential()\n",
        "model.add(Dense(64, input_dim=X_train.shape[1]))\n",
        "model.add(Activation('relu'))\n",
        "model.add(Dense(1))\n",
        "model.add(Activation('sigmoid'))\n",
        "\n",
        "# Compile the model\n",
        "model.compile(optimizer=Adam(learning_rate=0.001), loss='binary_crossentropy', metrics=['accuracy'])\n",
        "\n",
        "# Train the model\n",
        "history = model.fit(X_train, y_train, epochs=10, batch_size=32, validation_split=0.2)\n",
        "\n",
        "# Evaluate on test data\n",
        "y_pred = (model.predict(X_test) > 0.5).astype('int32')\n",
        "accuracy = accuracy_score(y_test, y_pred)\n",
        "print(f\"Test Accuracy: {accuracy}\")\n",
        "\n",
        "# Plot loss over epochs\n",
        "plt.plot(history.history['loss'], label='Training Loss')\n",
        "plt.plot(history.history['val_loss'], label='Validation Loss')\n",
        "plt.title('Loss Over Epochs')\n",
        "plt.xlabel('Epochs')\n",
        "plt.ylabel('Loss')\n",
        "plt.legend()\n",
        "plt.show()"
      ],
      "metadata": {
        "colab": {
          "base_uri": "https://localhost:8080/",
          "height": 921
        },
        "id": "dYpVWGYy3MVt",
        "outputId": "c088a841-620d-4165-e274-503f65db5d46"
      },
      "execution_count": null,
      "outputs": [
        {
          "output_type": "stream",
          "name": "stderr",
          "text": [
            "/usr/local/lib/python3.10/dist-packages/keras/src/layers/core/dense.py:87: UserWarning: Do not pass an `input_shape`/`input_dim` argument to a layer. When using Sequential models, prefer using an `Input(shape)` object as the first layer in the model instead.\n",
            "  super().__init__(activity_regularizer=activity_regularizer, **kwargs)\n"
          ]
        },
        {
          "output_type": "stream",
          "name": "stdout",
          "text": [
            "Epoch 1/10\n",
            "\u001b[1m246/246\u001b[0m \u001b[32m━━━━━━━━━━━━━━━━━━━━\u001b[0m\u001b[37m\u001b[0m \u001b[1m3s\u001b[0m 4ms/step - accuracy: 0.7471 - loss: 0.5612 - val_accuracy: 0.8341 - val_loss: 0.3899\n",
            "Epoch 2/10\n",
            "\u001b[1m246/246\u001b[0m \u001b[32m━━━━━━━━━━━━━━━━━━━━\u001b[0m\u001b[37m\u001b[0m \u001b[1m1s\u001b[0m 4ms/step - accuracy: 0.8531 - loss: 0.3428 - val_accuracy: 0.8555 - val_loss: 0.3390\n",
            "Epoch 3/10\n",
            "\u001b[1m246/246\u001b[0m \u001b[32m━━━━━━━━━━━━━━━━━━━━\u001b[0m\u001b[37m\u001b[0m \u001b[1m1s\u001b[0m 4ms/step - accuracy: 0.8782 - loss: 0.2949 - val_accuracy: 0.8529 - val_loss: 0.3402\n",
            "Epoch 4/10\n",
            "\u001b[1m246/246\u001b[0m \u001b[32m━━━━━━━━━━━━━━━━━━━━\u001b[0m\u001b[37m\u001b[0m \u001b[1m1s\u001b[0m 4ms/step - accuracy: 0.8857 - loss: 0.2773 - val_accuracy: 0.8575 - val_loss: 0.3439\n",
            "Epoch 5/10\n",
            "\u001b[1m246/246\u001b[0m \u001b[32m━━━━━━━━━━━━━━━━━━━━\u001b[0m\u001b[37m\u001b[0m \u001b[1m1s\u001b[0m 5ms/step - accuracy: 0.8898 - loss: 0.2582 - val_accuracy: 0.8550 - val_loss: 0.3538\n",
            "Epoch 6/10\n",
            "\u001b[1m246/246\u001b[0m \u001b[32m━━━━━━━━━━━━━━━━━━━━\u001b[0m\u001b[37m\u001b[0m \u001b[1m2s\u001b[0m 6ms/step - accuracy: 0.8983 - loss: 0.2502 - val_accuracy: 0.8514 - val_loss: 0.3705\n",
            "Epoch 7/10\n",
            "\u001b[1m246/246\u001b[0m \u001b[32m━━━━━━━━━━━━━━━━━━━━\u001b[0m\u001b[37m\u001b[0m \u001b[1m2s\u001b[0m 4ms/step - accuracy: 0.9046 - loss: 0.2291 - val_accuracy: 0.8514 - val_loss: 0.3653\n",
            "Epoch 8/10\n",
            "\u001b[1m246/246\u001b[0m \u001b[32m━━━━━━━━━━━━━━━━━━━━\u001b[0m\u001b[37m\u001b[0m \u001b[1m1s\u001b[0m 4ms/step - accuracy: 0.9073 - loss: 0.2300 - val_accuracy: 0.8519 - val_loss: 0.3767\n",
            "Epoch 9/10\n",
            "\u001b[1m246/246\u001b[0m \u001b[32m━━━━━━━━━━━━━━━━━━━━\u001b[0m\u001b[37m\u001b[0m \u001b[1m1s\u001b[0m 3ms/step - accuracy: 0.9126 - loss: 0.2185 - val_accuracy: 0.8443 - val_loss: 0.3776\n",
            "Epoch 10/10\n",
            "\u001b[1m246/246\u001b[0m \u001b[32m━━━━━━━━━━━━━━━━━━━━\u001b[0m\u001b[37m\u001b[0m \u001b[1m1s\u001b[0m 3ms/step - accuracy: 0.9117 - loss: 0.2172 - val_accuracy: 0.8468 - val_loss: 0.3861\n",
            "\u001b[1m77/77\u001b[0m \u001b[32m━━━━━━━━━━━━━━━━━━━━\u001b[0m\u001b[37m\u001b[0m \u001b[1m0s\u001b[0m 2ms/step\n",
            "Test Accuracy: 0.8261400651465798\n"
          ]
        },
        {
          "output_type": "display_data",
          "data": {
            "text/plain": [
              "<Figure size 640x480 with 1 Axes>"
            ],
            "image/png": "[encoded data removed]"
          },
          "metadata": {}
        }
      ]
    },
    {
      "cell_type": "markdown",
      "source": [
        "The task provided is to build a sentiment analysis classification model using backpropagation and various activation functions (sigmoid, ReLU, and tanh) to classify airline tweets as either positive or negative. The dataset consists of tweets related to airlines, and we will use a neural network to classify the sentiment based on the textual content of each tweet.\n",
        "\n",
        "\t•\tTo create a simple feed-forward neural network for binary sentiment classification (positive/negative).\n",
        "\t•\tTo implement backpropagation to optimize the model’s weights based on error calculation.\n",
        "\t•\tTo experiment with different activation functions (sigmoid, ReLU, tanh) in the hidden layers and compare model performance.\n",
        "\t•\tTo evaluate the model on a test set using accuracy and visualize the loss over epochs.\n",
        "\n",
        "The dataset consists of Twitter airline tweets, and it includes the following columns:\n",
        "\n",
        "\t•\ttext: The tweet content.\n",
        "\t•\tairline_sentiment: The sentiment associated with the tweet (positive, negative, or neutral).\n",
        "\n",
        "For this project, we focus on binary classification (positive vs negative) and filter out neutral tweets.\n",
        "\n",
        "1. Data Preprocessing\n",
        "\n",
        "\t    •\tThe dataset is first loaded and filtered to remove neutral tweets.\n",
        "\t    •\tThe text data is vectorized using the TF-IDF (Term Frequency-Inverse Document Frequency) approach to convert the text into a numerical representation suitable for input to the neural network.\n",
        "\t    •\tThe sentiment labels are converted into binary values (positive = 1, negative = 0).\n",
        "\n",
        "2. Model Architecture\n",
        "\n",
        "We use a simple feed-forward neural network with:\n",
        "\n",
        "\t•\tInput layer: The input consists of a vector of size equal to the number of features .\n",
        "\t•\tHidden layer: One hidden layer with 64 neurons and different activation functions (sigmoid, ReLU, tanh) for experimenting.\n",
        "\t•\tOutput layer: A single neuron with a sigmoid activation function, since binary classification is being performed in the output layer.\n",
        "\n",
        "3. Loss Function and Optimization\n",
        "\n",
        "\t    •\tLoss function: Binary cross-entropy is used as the loss function since we are dealing with a binary classification task.\n",
        "\t    •\tOptimizer: Adam optimizer is chosen for backpropagation due to its efficiency in updating weights during training.\n"
      ],
      "metadata": {
        "id": "LLindgf2AXXb"
      }
    }
  ]
}